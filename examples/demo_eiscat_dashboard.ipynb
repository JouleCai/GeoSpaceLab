{
 "cells": [
  {
   "cell_type": "code",
   "execution_count": 2,
   "id": "b0a4dc5a-acbb-4403-84a2-105f12280827",
   "metadata": {},
   "outputs": [
    {
     "ename": "ModuleNotFoundError",
     "evalue": "No module named 'geospacelab'",
     "output_type": "error",
     "traceback": [
      "\u001b[0;31m---------------------------------------------------------------------------\u001b[0m",
      "\u001b[0;31mModuleNotFoundError\u001b[0m                       Traceback (most recent call last)",
      "\u001b[0;32m/tmp/ipykernel_25335/408091023.py\u001b[0m in \u001b[0;36m<module>\u001b[0;34m\u001b[0m\n\u001b[1;32m      2\u001b[0m \u001b[0;32mimport\u001b[0m \u001b[0mmatplotlib\u001b[0m\u001b[0;34m.\u001b[0m\u001b[0mpyplot\u001b[0m \u001b[0;32mas\u001b[0m \u001b[0mplt\u001b[0m\u001b[0;34m\u001b[0m\u001b[0;34m\u001b[0m\u001b[0m\n\u001b[1;32m      3\u001b[0m \u001b[0;34m\u001b[0m\u001b[0m\n\u001b[0;32m----> 4\u001b[0;31m \u001b[0;32mimport\u001b[0m \u001b[0mgeospacelab\u001b[0m\u001b[0;34m.\u001b[0m\u001b[0mexpress\u001b[0m\u001b[0;34m.\u001b[0m\u001b[0meiscat_dashboard\u001b[0m \u001b[0;32mas\u001b[0m \u001b[0meiscat\u001b[0m\u001b[0;34m\u001b[0m\u001b[0;34m\u001b[0m\u001b[0m\n\u001b[0m\u001b[1;32m      5\u001b[0m \u001b[0;34m\u001b[0m\u001b[0m\n\u001b[1;32m      6\u001b[0m \u001b[0mdt_fr\u001b[0m \u001b[0;34m=\u001b[0m \u001b[0mdatetime\u001b[0m\u001b[0;34m.\u001b[0m\u001b[0mdatetime\u001b[0m\u001b[0;34m.\u001b[0m\u001b[0mstrptime\u001b[0m\u001b[0;34m(\u001b[0m\u001b[0;34m'20211010'\u001b[0m \u001b[0;34m+\u001b[0m \u001b[0;34m'1700'\u001b[0m\u001b[0;34m,\u001b[0m \u001b[0;34m'%Y%m%d%H%M'\u001b[0m\u001b[0;34m)\u001b[0m\u001b[0;34m\u001b[0m\u001b[0;34m\u001b[0m\u001b[0m\n",
      "\u001b[0;31mModuleNotFoundError\u001b[0m: No module named 'geospacelab'"
     ]
    }
   ],
   "source": [
    "import datetime\n",
    "import matplotlib.pyplot as plt\n",
    "\n",
    "import geospacelab.express.eiscat_dashboard as eiscat\n",
    "\n",
    "dt_fr = datetime.datetime.strptime('20211010' + '1700', '%Y%m%d%H%M')\n",
    "dt_to = datetime.datetime.strptime('20211010' + '2100', '%Y%m%d%H%M')\n",
    "\n",
    "site = 'UHF'\n",
    "antenna = 'UHF'\n",
    "modulation = 'ant'\n",
    "load_mode = 'AUTO'\n",
    "data_file_type = 'madrigal-hdf5'\n",
    "\n",
    "dashboard = eiscat.EISCATDashboard(dt_fr, dt_to, site=site, antenna=antenna, modulation=modulation,\n",
    "                             data_file_type=data_file_type, load_mode=load_mode, status_control=True,\n",
    "                             residual_control=True)\n",
    "\n",
    "# select beams before assign the variables\n",
    "# dashboard.dataset.select_beams(field_aligned=True)\n",
    "# dashboard.dataset.select_beams(az_el_pairs=[(188.6, 77.7)])\n",
    "dashboard.check_beams()\n",
    "\n",
    "dashboard.status_mask()\n",
    "\n",
    "n_e = dashboard.assign_variable('n_e')\n",
    "T_i = dashboard.assign_variable('T_i')\n",
    "T_e = dashboard.assign_variable('T_e')\n",
    "v_i = dashboard.assign_variable('v_i_los')\n",
    "az = dashboard.assign_variable('AZ')\n",
    "el = dashboard.assign_variable('EL')\n",
    "ptx = dashboard.assign_variable('P_Tx')\n",
    "tsys = dashboard.assign_variable('T_SYS_1')\n",
    "# T_r = dashboard.dataset.add_variable('T_r', ndim=2)\n",
    "# T_r.value = T_e.value / T_i.value\n",
    "# T_r.visual.plot_config.style = '2P'\n",
    "# T_r.depends = T_i.depends\n",
    "# T_r.visual.axis[2].label = 'Te/Ti'\n",
    "# T_r.visual.axis[2].unit = ''\n",
    "\n",
    "layout = [[n_e], [T_e], [T_i], [v_i], [az, [el], [ptx], [tsys]]]\n",
    "dashboard.set_layout(panel_layouts=layout, )\n",
    "dashboard.draw()\n",
    "dashboard.add_title()\n",
    "dashboard.add_panel_labels()\n",
    "return dashboard"
   ]
  },
  {
   "cell_type": "code",
   "execution_count": null,
   "id": "bb6e2361-7481-4e08-a9e2-e1cbf8ff456c",
   "metadata": {},
   "outputs": [],
   "source": []
  },
  {
   "cell_type": "code",
   "execution_count": null,
   "id": "9f73be2d-f12c-426f-86ad-664a96060830",
   "metadata": {},
   "outputs": [],
   "source": []
  }
 ],
 "metadata": {
  "kernelspec": {
   "display_name": "SpacePhy",
   "language": "python",
   "name": "spacephy"
  },
  "language_info": {
   "codemirror_mode": {
    "name": "ipython",
    "version": 3
   },
   "file_extension": ".py",
   "mimetype": "text/x-python",
   "name": "python",
   "nbconvert_exporter": "python",
   "pygments_lexer": "ipython3",
   "version": "3.7.11"
  }
 },
 "nbformat": 4,
 "nbformat_minor": 5
}
