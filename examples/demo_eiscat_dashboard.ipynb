{
 "cells": [
  {
   "cell_type": "markdown",
   "id": "1d1bd8a1-cd6e-4b4f-9f79-2e3126c585ac",
   "metadata": {},
   "source": [
    "\n",
    "# Manage the EISCAT data\n"
   ]
  },
  {
   "cell_type": "markdown",
   "id": "ddd85d94-07b3-4c0f-a521-c7fb8a0f7350",
   "metadata": {},
   "source": [
    "## Download and load eiscat data\n",
    "\n",
    "EISCAT provides three kinds of data file formats. They are **mat**, **eiscat-hdf5**, and **madrigal-hdf5**. Currently, [GeospaceLab](https://github.com/JouleCai/geospacelab) supports the **eiscat-hdf5** and **madrigal-hdf5** files.\n",
    "\n",
    "The package can download and load the data files (`load_mode=\"AUTO\"`) from [EISCAT](https://madrigal.eiscat.se/madrigal/), or load the local files (`load_mode=\"asigned\"` or `\"dialog\"`).\n",
    "\n",
    "### Automatically download and load the data\n"
   ]
  },
  {
   "cell_type": "markdown",
   "id": "65636225-cdc0-4c85-88cd-3e9df31dc303",
   "metadata": {},
   "source": [
    "#### Step 1. Import modules and create a EISCATDashboard object."
   ]
  },
  {
   "cell_type": "code",
   "execution_count": 1,
   "id": "b0a4dc5a-acbb-4403-84a2-105f12280827",
   "metadata": {},
   "outputs": [
    {
     "name": "stderr",
     "output_type": "stream",
     "text": [
      "Create a new figure: Figure(1000x800).\n"
     ]
    },
    {
     "name": "stdout",
     "output_type": "stream",
     "text": [
      "Load IGRF coefficients ...\n"
     ]
    },
    {
     "data": {
      "application/vnd.jupyter.widget-view+json": {
       "model_id": "80f376a9be794a35bc8484e004b7cd74",
       "version_major": 2,
       "version_minor": 0
      },
      "text/html": [
       "\n",
       "            <div style=\"display: inline-block;\">\n",
       "                <div class=\"jupyter-widgets widget-label\" style=\"text-align: center;\">\n",
       "                    Figure\n",
       "                </div>\n",
       "                <img src='data:image/png;base64,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' width=1000.0/>\n",
       "            </div>\n",
       "        "
      ],
      "text/plain": [
       "Canvas(toolbar=Toolbar(toolitems=[('Home', 'Reset original view', 'home', 'home'), ('Back', 'Back to previous …"
      ]
     },
     "metadata": {},
     "output_type": "display_data"
    }
   ],
   "source": [
    "import datetime\n",
    "import matplotlib.pyplot as plt\n",
    "%matplotlib widget\n",
    "import geospacelab.express.eiscat_dashboard as eiscat\n",
    "\n",
    "# settings\n",
    "dt_fr = datetime.datetime.strptime('20201209' + '1800', '%Y%m%d%H%M')\n",
    "dt_to = datetime.datetime.strptime('20201210' + '0600', '%Y%m%d%H%M')\n",
    "\n",
    "site = 'UHF'                # facility attributes required, check from the eiscat schedule page\n",
    "antenna = 'UHF'\n",
    "modulation = '60'\n",
    "load_mode = 'AUTO'\n",
    "data_file_type = 'eiscat-hdf5' # or 'madrigal-hdf5'\n",
    "\n",
    "dashboard = eiscat.EISCATDashboard(\n",
    "    dt_fr, dt_to, \n",
    "    site=site, antenna=antenna, modulation=modulation,\n",
    "    data_file_type=data_file_type, load_mode=load_mode, status_control=False,\n",
    "    residual_control=False\n",
    ")\n"
   ]
  },
  {
   "cell_type": "markdown",
   "id": "66c8767e-bc55-47bb-8131-5f0c7ab9bf1c",
   "metadata": {},
   "source": [
    "##### Some post processing actions ..."
   ]
  },
  {
   "cell_type": "code",
   "execution_count": 2,
   "id": "2cb800f4-2883-4da9-9bef-8e6d135dcc33",
   "metadata": {},
   "outputs": [
    {
     "name": "stderr",
     "output_type": "stream",
     "text": [
      "Dataset: madrigal | eiscat | uhf | uhfa | beata_cp1_2.1u_cp\n",
      "Listing all the beams ...\n",
      "        No.               (az, el)             Counts       Sequence indices                                                                \n",
      "         1          (188.60000610351562, 77.69999694824219)        717         array([0, 1, 2, 3, 4, 5, 6, 7, 8, 9, ...], dtype=object)                        \n"
     ]
    },
    {
     "data": {
      "text/plain": [
       "(array([[188.6,  77.7]], dtype=float32), array([717]))"
      ]
     },
     "execution_count": 2,
     "metadata": {},
     "output_type": "execute_result"
    }
   ],
   "source": [
    "# Check the beams\n",
    "dashboard.check_beams()"
   ]
  },
  {
   "cell_type": "code",
   "execution_count": 3,
   "id": "11ff6085-7816-494d-9d55-7bdc0f9e33b6",
   "metadata": {},
   "outputs": [],
   "source": [
    "# Slect beams, useful for multi-beam scanning \n",
    "dashboard.select_beams(field_aligned=True)"
   ]
  },
  {
   "cell_type": "code",
   "execution_count": 4,
   "id": "caf3aa91-5302-4868-8a9c-392ae73c7774",
   "metadata": {},
   "outputs": [],
   "source": [
    "# Mast bad values (status and residuals)\n",
    "dashboard.status_mask()"
   ]
  },
  {
   "cell_type": "markdown",
   "id": "4739e3ca-3f25-4aec-b1ac-8f07ac763ff7",
   "metadata": {},
   "source": [
    "#### Step 2. Assign variables from the EISCAT dataset\n",
    "\n",
    "The returns are the GeospaceLab Variable objects."
   ]
  },
  {
   "cell_type": "code",
   "execution_count": 5,
   "id": "7900eea9-d012-473b-9be9-3d271fa3d346",
   "metadata": {},
   "outputs": [],
   "source": [
    "n_e = dashboard.assign_variable('n_e')\n",
    "T_i = dashboard.assign_variable('T_i')\n",
    "T_e = dashboard.assign_variable('T_e')\n",
    "v_i = dashboard.assign_variable('v_i_los')\n",
    "az = dashboard.assign_variable('AZ')\n",
    "el = dashboard.assign_variable('EL')\n",
    "ptx = dashboard.assign_variable('P_Tx')\n",
    "tsys = dashboard.assign_variable('T_SYS_1')"
   ]
  },
  {
   "cell_type": "markdown",
   "id": "9b6ce414-532a-4f42-a8f0-439c0f3a73ec",
   "metadata": {},
   "source": [
    "#### Step 3. Get values"
   ]
  },
  {
   "cell_type": "code",
   "execution_count": 6,
   "id": "501fb465-9053-4ebb-9f8f-b61fd1b06110",
   "metadata": {},
   "outputs": [],
   "source": [
    "n_e_arr = n_e.value"
   ]
  },
  {
   "cell_type": "markdown",
   "id": "344f666a-21ea-4fff-afda-06ba1b964079",
   "metadata": {},
   "source": [
    "## Visualize the EISCAT data"
   ]
  },
  {
   "cell_type": "markdown",
   "id": "561a5b12-9bee-43e1-8e1b-28baf66445cc",
   "metadata": {},
   "source": [
    "### Set the panel layout and draw the plots."
   ]
  },
  {
   "cell_type": "code",
   "execution_count": 7,
   "id": "0e458eeb-193e-4694-a27e-b56b70519cef",
   "metadata": {},
   "outputs": [],
   "source": [
    "layout = [[n_e], [T_e], [T_i], [v_i], [az, [el], [ptx], [tsys]]]\n",
    "dashboard.set_layout(panel_layouts=layout, )\n",
    "dashboard.draw()"
   ]
  },
  {
   "cell_type": "markdown",
   "id": "7480fbe7-a839-4e05-b4bf-6cd8f868513a",
   "metadata": {},
   "source": [
    "### Utilities.\n"
   ]
  },
  {
   "cell_type": "markdown",
   "id": "c10458d6-0bed-49be-a2ec-f9fd5dd9b9a9",
   "metadata": {},
   "source": [
    "#### Add a title"
   ]
  },
  {
   "cell_type": "code",
   "execution_count": 8,
   "id": "9f73be2d-f12c-426f-86ad-664a96060830",
   "metadata": {},
   "outputs": [],
   "source": [
    "dashboard.add_title()"
   ]
  },
  {
   "cell_type": "markdown",
   "id": "2a15a251-d46a-4599-be07-4c3f8b478303",
   "metadata": {},
   "source": [
    "#### Add panel labels"
   ]
  },
  {
   "cell_type": "code",
   "execution_count": 9,
   "id": "15b63136-64be-4ae1-943d-ffed575bda2d",
   "metadata": {},
   "outputs": [],
   "source": [
    "dashboard.add_panel_labels()"
   ]
  },
  {
   "cell_type": "markdown",
   "id": "3d40fd0a-0441-4d06-b659-78d116d75ecd",
   "metadata": {},
   "source": [
    "#### Add verticle lines and shadings as indicators"
   ]
  },
  {
   "cell_type": "code",
   "execution_count": 10,
   "id": "32a9480f-0963-4056-9dd4-c2fa87d90ec3",
   "metadata": {},
   "outputs": [],
   "source": [
    "# add vertical lines\n",
    "dt_fr_2 = datetime.datetime.strptime('20201209' + '2030', \"%Y%m%d%H%M\")\n",
    "dt_to_2 = datetime.datetime.strptime('20201210' + '0130', \"%Y%m%d%H%M\")\n",
    "dashboard.add_vertical_line(dt_fr_2, bottom_extend=0, top_extend=0.02, label='Line 1', label_position='top')\n",
    "# add shading\n",
    "dashboard.add_shading(dt_fr_2, dt_to_2, bottom_extend=0, top_extend=0.02, label='Shading 1', label_position='top')\n",
    "# add top bar\n",
    "dt_fr_3 = datetime.datetime.strptime('20201210' + '0130', \"%Y%m%d%H%M\")\n",
    "dt_to_3 = datetime.datetime.strptime('20201210' + '0430', \"%Y%m%d%H%M\")\n",
    "dashboard.add_top_bar(dt_fr_3, dt_to_3, bottom=0., top=0.02, label='Top bar 1')"
   ]
  },
  {
   "cell_type": "markdown",
   "id": "7e2127a0-a6d1-4699-90ac-f23ade5226c0",
   "metadata": {},
   "source": [
    "### List all the datasets"
   ]
  },
  {
   "cell_type": "code",
   "execution_count": 12,
   "id": "c16513ff-33c4-4f16-8e28-856f2c05b236",
   "metadata": {},
   "outputs": [
    {
     "name": "stdout",
     "output_type": "stream",
     "text": [
      "\u001b[0;31;40mdata_sources\u001b[0m\n"
     ]
    }
   ],
   "source": [
    "dashboard.list_sourced_datasets()"
   ]
  }
 ],
 "metadata": {
  "kernelspec": {
   "display_name": "geotest",
   "language": "python",
   "name": "geotest"
  },
  "language_info": {
   "codemirror_mode": {
    "name": "ipython",
    "version": 3
   },
   "file_extension": ".py",
   "mimetype": "text/x-python",
   "name": "python",
   "nbconvert_exporter": "python",
   "pygments_lexer": "ipython3",
   "version": "3.8.12"
  }
 },
 "nbformat": 4,
 "nbformat_minor": 5
}
